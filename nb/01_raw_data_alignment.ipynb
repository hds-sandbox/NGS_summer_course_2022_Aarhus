{
 "cells": [
  {
   "attachments": {},
   "cell_type": "markdown",
   "id": "2387beac-f5bf-4e61-9c79-ff6c12684b17",
   "metadata": {},
   "source": [
    "---\n",
    "format: \n",
    "    html:\n",
    "      toc: true\n",
    "title: \"Raw data alignment\"\n",
    "author: \"Stig U Andersen, Mikkel H Schierup, Samuele Soraggi\"\n",
    "title-block-banner: true\n",
    "---\n",
    "\n",
    ":::{.callout-note title=\"Tutorial description\"}\n",
    "\n",
    "This tutorial will cover the steps for performing the alignment of raw RNA- and HiFi-sequencing data. You will need to use [the software IGV](https://software.broadinstitute.org/software/igv/download) on your computer to visualize some of the output files, which can be easily downloaded once they are produced. At the end of this tutorial you will be able to:\n",
    "\n",
    "- perform and discuss quality control on raw data in `fastq` format using `FastQC` and `MultiQC`\n",
    "- align HiFi and RNA sequencing data with dedicated tools such as `MiniMap2` and `STAR`\n",
    "- analyze the quality the alignment with `qualimap`\n",
    "\n",
    ":::\n",
    "\n",
    "The output of this notebook will be used for the Variant calling analysis and the bulk RNA-sequencing analysis. If you do not want to run this notebook, you can alternatively use [the free interactive tool Galaxy](https://usegalaxy.org/) to perform the alignment steps. We have uploaded the data on Galaxy, and the manual to perform the exercise is found [at the course webpage](https://hds-sandbox.github.io/NGS_summer_course_Aarhus/).\n",
    "\n",
    "The present tutorial, like the rest of the course material, is available at our [open-source github repository](https://github.com/hds-sandbox/NGS_summer_course_Aarhus).\n",
    "\n",
    ":::{.callout-tip collapse=\"true\" title=\"A few introductory points to run this notebook (click to show)\"}\n",
    "  \n",
    "* To use this notebook, use the `NGS (python)` kernel that contains the packages. Choose it by selecting `Kernel -> Change Kernel` in the menu on top of the window.\n",
    "\n",
    "<figure>\n",
    "<img src=\"images/kernelchoice.png\" width=\"500\" alt=\"Kernel Choice\" class=\"center\">\n",
    "</figure>\n",
    "\n",
    "* In this notebook you will use only bash commands as you would do in the command line (this is why you read `%%bash` at the beginning of each piece of code). Those commands can be replicated in the command line, but we thought of integrating them in a notebook to make the tutorial understandable. The bash commands can also be marked with an `!` sign at the beginning of the line\n",
    "* On some computers, you might see the result of the commands once they are done running. This means you will wait some time while the computer is crunching, and only afterwards you will see the result of the command you have executed\n",
    "*  You can run the code in each cell by clicking on the run cell button, or by pressing <kbd> Shift </kbd> + <kbd> Enter </kbd>.  When the code is done running, a small green check sign will appear on the left side\n",
    "*   You need to run the cells in sequential order, please do not run a cell until the one above finished running and do not skip any cells\n",
    "*   Each cell contains a short description of the code and the output you should get. Please try not to focus on understanding the code for each command in too much detail, but rather try to focus on the output \n",
    "*   You can create new code cells by pressing <kbd> + </kbd> in the Menu bar above. \n",
    "    \n",
    ":::\n",
    "\n",
    "\n",
    "# Biological background\n",
    "\n",
    "White clover (Trifolium repens) is an allotetraploid.  It is a relatively young, outcrossing species, which originated during the most recent glaciation around 20,000 years ago by hybridisation of two diploid species, T. occidentale and T. pallescens (see figure below). \n",
    "\n",
    "<figure>\n",
    "<img src=\"images/white_clover.png\" width=\"700\" alt=\"Kernel Choice\" class=\"center\">\n",
    "</figure>\n",
    "\n",
    "This means that it contains genomes originating from two different species within the same nucleus. Normally, white clover is an outbreeding species, but a self-compatible line was used for sequencing the white clover genome [(Griffiths et al, 2019)](https://academic.oup.com/plcell/article/31/7/1466/5985684). This line will be \n",
    "designated as `S10` in the data, indicating that this is the 10th self-fertilized generation. In addition, we have data from a wild clover accession (ecotype) called Tienshan (`Ti`), which is collected from the Chinese mountains and is adapted to alpine conditions.\n",
    "\n",
    "We will perform alignment of the data to the white clover's reference genome containing both T. occidentale and T. pallescens (called `contig 1` and `contig 2` in the data). We will also perform alignment to each subgenome, and see which are the differences with the quality control tools."
   ]
  },
  {
   "attachments": {},
   "cell_type": "markdown",
   "id": "e9fa554d-1968-4d6c-a980-a799d40da2a6",
   "metadata": {},
   "source": [
    "# Quality control and mapping\n",
    "\n",
    "## Quality Control\n",
    "\n",
    "We run `FastQC` on the PacBio Hifi reads and on two of the Illumina RNA-seq libraries. `FastQC` does quality control of the raw sequence data, providing an overview of the data which can help identify if there are any problems that should be addressed before further analysis. You can find the report for each file into the folder `results/fastqc_output/`. The output is in HTML format and can be opened in any browser or in `jupyterlab`. It is however not easy to compare the various libraries by opening separate reports. To aggregate all the results, we apply the `MultiQC` software to the reports' folder. The output of MultiQC is in the directory `results/multiqc_output/fastqc_data`."
   ]
  },
  {
   "cell_type": "code",
   "execution_count": null,
   "id": "8e870118-3af0-4e12-80bd-381786b58833",
   "metadata": {
    "tags": []
   },
   "outputs": [],
   "source": [
    "%%bash\n",
    "#run fastqc\n",
    "mkdir -p results/fastqc_output\n",
    "fastqc -q -o results/fastqc_output ../Data/Clover_Data/*.fastq  > /dev/null 2>&1"
   ]
  },
  {
   "attachments": {},
   "cell_type": "markdown",
   "id": "a55d5297-81c3-4e01-915e-917dd1e01cc7",
   "metadata": {},
   "source": [
    "**Note:** `fastqc` prints a lot of output conisting of a simple confirmation of execution without error, even when using the option `-q`, which means `quiet`. Therefore we added `> /dev/null 2>&1` to the command to mute the printing of that output."
   ]
  },
  {
   "cell_type": "code",
   "execution_count": null,
   "id": "bb569b9f-9700-4edf-a785-ee4b5c632432",
   "metadata": {
    "tags": []
   },
   "outputs": [],
   "source": [
    "%%bash\n",
    "#run multiqc\n",
    "multiqc --outdir results/multiqc_output/fastqc_data results/fastqc_output"
   ]
  },
  {
   "attachments": {},
   "cell_type": "markdown",
   "id": "37bcc081-4568-40ea-a487-a0567afb0648",
   "metadata": {},
   "source": [
    "<div class=\"alert-success\"> <font size=\"+2\"> <b> Questions </b> </font> </div>\n",
    "\n",
    "Visualize the Webpage generated by MultiQC.\n",
    "\n",
    "Hint: You can find a `Help` button that offers additional information about the plots for each panel. Focus on the following panels: “Per base sequence quality”, “Per sequence quality scores”.... (“Per base sequence content” always gives a `FAIL` for RNA-seq data).\n",
    "\n",
    "* What do you notice with respect to the sequence quality scores? \n",
    "* Are there any other quality issues worth noting?"
   ]
  },
  {
   "attachments": {},
   "cell_type": "markdown",
   "id": "fe4ff3dc-e725-439a-af06-9cc9e8df7369",
   "metadata": {
    "tags": []
   },
   "source": [
    "## Hifi data mapping\n",
    "\n",
    "We map the PacBio Hifi reads (`Hifi_reads_white_clover.fastq`) to the white clover reference sequence (Contig1&2) using `minimap2`. We run two mapping rounds, using two different preset options (`-x` in the command) for the technology:\n",
    "* PacBio/Oxford Nanopore read to reference mapping: `map-pb`\n",
    "* Long assembly to reference mapping. Divergence is below 20%” settings `asm20`.\n",
    "Next, we create reports of the mapping results by running `QualiMap` on the two obtained SAM files."
   ]
  },
  {
   "attachments": {},
   "cell_type": "markdown",
   "id": "38aa9ec7-e1d0-4dae-9595-39b9626744a3",
   "metadata": {},
   "source": [
    "We first need to index the reference fasta files using `samtools faidx`. This produces files in `.fai` format containing informations about length of the reference sequence, offset for the quality scores, name of the reference sequence. [Click here](http://www.htslib.org/doc/faidx.html) for a detailed overview. "
   ]
  },
  {
   "cell_type": "code",
   "execution_count": null,
   "id": "f2f77036-3263-4147-9726-c28608a4ba9b",
   "metadata": {
    "tags": []
   },
   "outputs": [],
   "source": [
    "%%bash\n",
    "#copy the reference data in the folder reference_data, so that you can write the indexing files\n",
    "mkdir -p reference_data\n",
    "cp ../Data/Clover_Data/DNA_Contig1_2.fasta ../Data/Clover_Data/DNA_Contig1.fasta ../Data/Clover_Data/DNA_Contig2.fasta reference_data"
   ]
  },
  {
   "cell_type": "code",
   "execution_count": null,
   "id": "7164eaeb-b66c-4ebc-b834-b2788f3430ac",
   "metadata": {
    "tags": []
   },
   "outputs": [],
   "source": [
    "%%bash\n",
    "samtools faidx reference_data/DNA_Contig1_2.fasta\n",
    "samtools faidx reference_data/DNA_Contig1.fasta\n",
    "samtools faidx reference_data/DNA_Contig2.fasta"
   ]
  },
  {
   "attachments": {},
   "cell_type": "markdown",
   "id": "d2f9adf3-80ad-4cfe-bd47-85675a0d1817",
   "metadata": {},
   "source": [
    "we create an output folder for the HIFI alignment, and run `minimap2` with the settings explained before."
   ]
  },
  {
   "cell_type": "code",
   "execution_count": null,
   "id": "78f8d72a-ea2a-4540-916b-a3dee7b9df1e",
   "metadata": {
    "tags": []
   },
   "outputs": [],
   "source": [
    "%%bash \n",
    "mkdir -p results/HIFI_alignment/\n",
    "minimap2 -a -x map-pb -o results/HIFI_alignment/PacBio_clover_alignment_1_2_mappb.sam \\\n",
    "                            reference_data/DNA_Contig1_2.fasta \\\n",
    "                            ../Data/Clover_Data/Hifi_reads_white_clover.fastq \n",
    "\n",
    "minimap2 -a -x asm20 -o results/HIFI_alignment/PacBio_clover_alignment_1_2_asm20.sam \\\n",
    "                            reference_data/DNA_Contig1_2.fasta \\\n",
    "                            ../Data/Clover_Data/Hifi_reads_white_clover.fastq"
   ]
  },
  {
   "attachments": {},
   "cell_type": "markdown",
   "id": "4127acd6-0c46-47df-9399-4e9eb9136878",
   "metadata": {},
   "source": [
    "`samtools sort` is used to sort the alignment with left-to-right coordinates. The output is in `.bam` format, with `.sam` files in input (Note that you could have gotten `.bam` files from `minimap2` with a specific option)."
   ]
  },
  {
   "cell_type": "code",
   "execution_count": null,
   "id": "04fed3e0-2e63-42d3-8a93-4d0dcf99433b",
   "metadata": {
    "tags": []
   },
   "outputs": [],
   "source": [
    "%%bash\n",
    "samtools sort results/HIFI_alignment/PacBio_clover_alignment_1_2_mappb.sam \\\n",
    "                -o results/HIFI_alignment/PacBio_clover_alignment_1_2_mappb.sort.bam\n",
    "\n",
    "samtools sort results/HIFI_alignment/PacBio_clover_alignment_1_2_asm20.sam \\\n",
    "                -o results/HIFI_alignment/PacBio_clover_alignment_1_2_asm20.sort.bam"
   ]
  },
  {
   "attachments": {},
   "cell_type": "markdown",
   "id": "080e7d40-f4a4-4245-a8df-63b93cb92de5",
   "metadata": {},
   "source": [
    "`samtools index` creates the index for the `bam` file, stored in `.bai` format. The index file lets programs access any position into the aligned data without reading the whole file, which would take too much time."
   ]
  },
  {
   "cell_type": "code",
   "execution_count": null,
   "id": "283ca1e5-b973-40c0-9170-552e50a6c73c",
   "metadata": {
    "tags": []
   },
   "outputs": [],
   "source": [
    "%%bash\n",
    "samtools index results/HIFI_alignment/PacBio_clover_alignment_1_2_mappb.sort.bam\n",
    "samtools index results/HIFI_alignment/PacBio_clover_alignment_1_2_asm20.sort.bam"
   ]
  },
  {
   "attachments": {},
   "cell_type": "markdown",
   "id": "1bc10dae-549f-405b-8a84-8137b766dcff",
   "metadata": {},
   "source": [
    "Run quality control on both files"
   ]
  },
  {
   "cell_type": "code",
   "execution_count": null,
   "id": "a715b1d4-91e6-479e-a6db-f63f0494eaeb",
   "metadata": {
    "tags": []
   },
   "outputs": [],
   "source": [
    "%%bash\n",
    "qualimap bamqc -bam results/HIFI_alignment/PacBio_clover_alignment_1_2_mappb.sort.bam \\\n",
    "                 -outdir results/qualimap_output/PacBio_clover_alignment_1_2_mappb\n",
    "\n",
    "qualimap bamqc -bam results/HIFI_alignment/PacBio_clover_alignment_1_2_asm20.sort.bam \\\n",
    "                 -outdir results/qualimap_output/PacBio_clover_alignment_1_2_asm20"
   ]
  },
  {
   "attachments": {},
   "cell_type": "markdown",
   "id": "b5592eff-3c95-484d-8f23-479af4472608",
   "metadata": {},
   "source": [
    "For easier comparison, we can again collapse the two reports into a single one using `MultiQC`, in the same way we did for putting together the other reports from `fastQC`."
   ]
  },
  {
   "cell_type": "code",
   "execution_count": null,
   "id": "12b23703-4a35-4fef-989e-5d9f9eba02e4",
   "metadata": {
    "tags": []
   },
   "outputs": [],
   "source": [
    "%%bash\n",
    "\n",
    "#run multiqc\n",
    "multiqc --outdir results/qualimap_output results/qualimap_output"
   ]
  },
  {
   "attachments": {},
   "cell_type": "markdown",
   "id": "8ddf2f6b-42d2-4454-b25c-0f6537a6b6c8",
   "metadata": {},
   "source": [
    "Now you can visualize the report generated, which is in `results/qualimap_output/multiqc_report.html`."
   ]
  },
  {
   "attachments": {},
   "cell_type": "markdown",
   "id": "f84d8e45-8851-437c-8f3b-0c22fb0bd6b9",
   "metadata": {},
   "source": [
    "Next, we map the white clover PacBio Hifi reads to contig1 and contig2 separately, using the setting you selected at the previous step (let's say `map-pb` was chosen, but you are free to change this setting in the commands). As the two contigs represent the two white clover subgenomes, this mapping will allow you to see the two subgenome haplotypes and call subgenome SNPs.\n"
   ]
  },
  {
   "cell_type": "code",
   "execution_count": null,
   "id": "aa14c53f-56ea-4216-929d-1678eea2eaf5",
   "metadata": {
    "tags": []
   },
   "outputs": [],
   "source": [
    "%%bash \n",
    "minimap2 -a -x map-pb -o results/HIFI_alignment/PacBio_clover_alignment_1.sam \\\n",
    "                            reference_data/DNA_Contig1.fasta \\\n",
    "                            ../Data/Clover_Data/Hifi_reads_white_clover.fastq"
   ]
  },
  {
   "cell_type": "code",
   "execution_count": null,
   "id": "bf1882ee-41e5-4413-9c48-b35a5821bc34",
   "metadata": {
    "tags": []
   },
   "outputs": [],
   "source": [
    "%%bash \n",
    "minimap2 -a -x map-pb -o results/HIFI_alignment/PacBio_clover_alignment_2.sam \\\n",
    "                            reference_data/DNA_Contig2.fasta \\\n",
    "                            ../Data/Clover_Data/Hifi_reads_white_clover.fastq"
   ]
  },
  {
   "attachments": {},
   "cell_type": "markdown",
   "id": "b1618001-a5cf-46c6-bde4-e00a9e66b14f",
   "metadata": {},
   "source": [
    "Sort the bam files and create their index using `samtools`"
   ]
  },
  {
   "cell_type": "code",
   "execution_count": null,
   "id": "123965ae-5548-41a5-b115-82d8a4cff9ef",
   "metadata": {
    "tags": []
   },
   "outputs": [],
   "source": [
    "%%bash\n",
    "samtools sort results/HIFI_alignment/PacBio_clover_alignment_1.sam -o results/HIFI_alignment/PacBio_clover_alignment_1.sort.bam\n",
    "samtools sort results/HIFI_alignment/PacBio_clover_alignment_2.sam -o results/HIFI_alignment/PacBio_clover_alignment_2.sort.bam"
   ]
  },
  {
   "cell_type": "code",
   "execution_count": null,
   "id": "644c4f48-c07e-4a3e-8a5f-ab563ff47638",
   "metadata": {
    "tags": []
   },
   "outputs": [],
   "source": [
    "%%bash\n",
    "samtools index results/HIFI_alignment/PacBio_clover_alignment_1.sort.bam\n",
    "samtools index results/HIFI_alignment/PacBio_clover_alignment_2.sort.bam"
   ]
  },
  {
   "attachments": {},
   "cell_type": "markdown",
   "id": "c819c707-6fb6-43cd-9dab-39f14030d118",
   "metadata": {},
   "source": [
    "Perform quality control"
   ]
  },
  {
   "cell_type": "code",
   "execution_count": null,
   "id": "5fc4abe2-f4b9-474e-9cbb-c83afa67a79a",
   "metadata": {
    "tags": []
   },
   "outputs": [],
   "source": [
    "%%bash\n",
    "mkdir -p results/qualimap_output\n",
    "qualimap bamqc -bam results/HIFI_alignment/PacBio_clover_alignment_1.sort.bam -outdir results/qualimap_output/PacBio_clover_alignment_1"
   ]
  },
  {
   "cell_type": "code",
   "execution_count": null,
   "id": "37e138ff-099e-4706-9db6-3bf93d0cac07",
   "metadata": {
    "tags": []
   },
   "outputs": [],
   "source": [
    "%%bash\n",
    "qualimap bamqc -bam results/HIFI_alignment/PacBio_clover_alignment_2.sort.bam -outdir results/qualimap_output/PacBio_clover_alignment_2"
   ]
  },
  {
   "cell_type": "code",
   "execution_count": null,
   "id": "1f6fcb18-6e88-4f5f-b0aa-5fd3461f4ad6",
   "metadata": {
    "tags": []
   },
   "outputs": [],
   "source": [
    "%%bash\n",
    "\n",
    "#run multiqc\n",
    "multiqc --outdir results/qualimap_output results/qualimap_output"
   ]
  },
  {
   "attachments": {},
   "cell_type": "markdown",
   "id": "cee13752-8663-46c4-8b99-25832f514f95",
   "metadata": {},
   "source": [
    "<div class=\"alert-success\"> <font size=\"+2\"> <b> Task: IGV visualization and Questions </b> </font> </div>\n",
    "\n",
    "Now you can inspect the alignment files in `IGV`. \n",
    "\n",
    "* First, you will need to download the reference fasta sequence in `../Data/Clover_Data/DNA_Contig1_2.fasta` and import it into IGV. You can do the same for the files `DNA_Contig1.fasta` and `DNA_Contig2.fasta` that you might need later. In IGV, this is done with the menu `Genomes --> Load Genome from file` menu and by selecting the relevant fasta file. Then, choose the reference you need from the drop-down menu (see figure below). \n",
    "![](./images/IGVref.png)\n",
    "You will not yet see much, but you can choose one of the two subgenomes (contig 1 or 2) and double click on a chromosome position to inspect the reference sequence. The next step will visualize the mapped files on IGV.\n",
    "\n",
    "\n",
    "* Each mapped genome can be seen in IGV against the reference file of choice. To load an aligned file, first download it together with the index file in `.bai` format. For example, you need to download both `results/HIFI_alignment/PacBio_clover_alignment_1.sort.bam` and `results/HIFI_alignment/PacBio_clover_alignment_1.sort.bam.bai` to see this alignment (you need to open only the `.bam` file with IGV). If you open more files, their alignments will be distributed in the IGV interface, and you can change the size of each visualization yourself (below shown with only one opened alignment).\n",
    "![](./images/IGVbam.png)\n",
    "\n",
    "Now compare in IGV the two bam files `PacBio_clover_alignment_1.sort.bam` and `PacBio_clover_alignment_2.sort.bam`.\n",
    "\n",
    "* What do you observe when comparing the two BAM files? \n",
    "* Have a look at the polymorphic regions in IGV. Are they true polymorphisms?\n",
    "\n",
    "Add to the visualization the third alignment `PacBio_clover_alignment_1_2_mappb.sort.bam` in IGV.\n",
    "\n",
    "* Why do you see fluctuations in coverage and large regions without any apparent subgenome SNPs?\n",
    "* What are the major differences between the stats for the reads mapped to Contigs1&2 versus contig1 and contig2? What is your interpretation of the differences?"
   ]
  },
  {
   "attachments": {},
   "cell_type": "markdown",
   "id": "b2393c6b-a5ff-4c1e-8e37-5cfd1c341ee9",
   "metadata": {
    "execution": {
     "iopub.execute_input": "2022-08-01T10:51:07.496212Z",
     "iopub.status.busy": "2022-08-01T10:51:07.495586Z",
     "iopub.status.idle": "2022-08-01T10:51:07.502111Z",
     "shell.execute_reply": "2022-08-01T10:51:07.501137Z",
     "shell.execute_reply.started": "2022-08-01T10:51:07.496156Z"
    },
    "tags": []
   },
   "source": [
    "# RNA-seq mapping\n",
    "\n",
    "In the `../Data` folder you will find 24 RNA-seq libraries, 12 `S10` libraries and 12  `Tienshan` libraries. Each library is paired-end, which is denoted by `R1` and `R2` at the end of two files having the same name, such as `S10_1_1.R1.fastq` and `S10_1_1.R2.fastq`. We will align each library separately and then merge the alignments to create two final samples for `S10` and `Tienshan`.\n",
    "\n",
    "First, we need to create a genome file for the reference fasta file of contigs `1` and `2`. This is done with `STAR`, using the option `--runMode genomeGenerate`. We also need to convert the gene annotation from `gff` to `gtf` format with `gffread` to allow counting gene transcripts. `STAR` is a very complex tool with many options, so it is always useful to [have a reference manual](https://physiology.med.cornell.edu/faculty/skrabanek/lab/angsd/lecture_notes/STARmanual.pdf)."
   ]
  },
  {
   "cell_type": "code",
   "execution_count": null,
   "id": "f92315a0-5f7d-4884-8140-75101dd430c8",
   "metadata": {
    "tags": []
   },
   "outputs": [],
   "source": [
    "%%bash\n",
    "gffread -T -o reference_data/white_clover_genes.gtf ../Data/Clover_Data/white_clover_genes.gff"
   ]
  },
  {
   "cell_type": "code",
   "execution_count": null,
   "id": "468e6500-fcfd-4901-93fd-987d41b8073b",
   "metadata": {
    "tags": []
   },
   "outputs": [],
   "source": [
    "%%bash\n",
    "STAR --runThreadN 8 \\\n",
    "--runMode genomeGenerate \\\n",
    "--genomeDir results/STAR_output/indexing_contigs_1_2 \\\n",
    "--genomeFastaFiles reference_data/DNA_Contig1_2.fasta \\\n",
    "--sjdbGTFfile reference_data/white_clover_genes.gtf "
   ]
  },
  {
   "attachments": {},
   "cell_type": "markdown",
   "id": "92564ef9-a4bf-4960-90f7-929a18e2c66a",
   "metadata": {},
   "source": [
    "We got a warning saying\n",
    "```\n",
    "!!!!! WARNING: --genomeSAindexNbases 14 is too large for the genome size=2089554, which may cause seg-fault at the mapping step. Re-run genome generation with recommended --genomeSAindexNbases 9\n",
    "```\n",
    "meaning we need shorter strings of bases (9 bases instead of 14) to be indexed, as our reference genome is very short, and too long strings would cause many alignment errors. So we rerun the command with the suggested option."
   ]
  },
  {
   "cell_type": "code",
   "execution_count": null,
   "id": "655aa9f2-aa9b-4515-b6cd-72464bcc9dfc",
   "metadata": {
    "tags": []
   },
   "outputs": [],
   "source": [
    "%%bash\n",
    "STAR --runThreadN 8 \\\n",
    "--runMode genomeGenerate \\\n",
    "--genomeDir results/STAR_output/indexing_contigs_1_2 \\\n",
    "--genomeFastaFiles reference_data/DNA_Contig1_2.fasta \\\n",
    "--sjdbGTFfile reference_data/white_clover_genes.gtf \\\n",
    "--genomeSAindexNbases 9"
   ]
  },
  {
   "attachments": {},
   "cell_type": "markdown",
   "id": "8ba3b14f-9823-4eb0-865e-ec9416446c54",
   "metadata": {},
   "source": [
    "We use again `STAR` to align every single library for `S10`. We extract the library name of each file and run STAR through each pair of files. Note that plant introns are very rarely more than `5000 bp` and that you are mapping to two homoeologous contigs that show high similarity, especially in genic regions. We set the maximum size to 5000 using `--alignIntronMax 5000`."
   ]
  },
  {
   "cell_type": "code",
   "execution_count": null,
   "id": "e5f384d0-125b-4a1d-91ac-ee90a5797fae",
   "metadata": {
    "tags": []
   },
   "outputs": [],
   "source": [
    "%%bash\n",
    "for i in `ls ../Data/Clover_Data/S10*.R1.fastq`\n",
    "do\n",
    "\n",
    "PREFIXNAME=`basename $i .R1.fastq`\n",
    "echo \"###############################################\"\n",
    "echo \"##### ALIGNING PAIRED-END READS \"$PREFIXNAME\n",
    "echo \"###############################################\"\n",
    "STAR --genomeDir results/STAR_output/indexing_contigs_1_2/ \\\n",
    "--runThreadN 8 \\\n",
    "--runMode alignReads \\\n",
    "--readFilesIn ../Data/Clover_Data/$PREFIXNAME.R1.fastq ../Data/Clover_Data/$PREFIXNAME.R2.fastq \\\n",
    "--outFileNamePrefix results/STAR_output/S10_align_contigs_1_2/$PREFIXNAME \\\n",
    "--outSAMtype BAM SortedByCoordinate \\\n",
    "--outSAMattributes Standard \\\n",
    "--quantMode GeneCounts \\\n",
    "--alignIntronMax 5000\n",
    "\n",
    "done"
   ]
  },
  {
   "attachments": {},
   "cell_type": "markdown",
   "id": "0951bbdc-aba9-4b3d-acf2-7c601459dbb4",
   "metadata": {},
   "source": [
    "Do the same alignment for `Tienshan` libraries"
   ]
  },
  {
   "cell_type": "code",
   "execution_count": null,
   "id": "74b1d9c2-a7f2-490b-88a3-a7ba2a23f383",
   "metadata": {
    "tags": []
   },
   "outputs": [],
   "source": [
    "%%bash\n",
    "for i in `ls ../Data/Clover_Data/TI*.R1.fastq`\n",
    "do\n",
    "\n",
    "PREFIXNAME=`basename $i .R1.fastq`\n",
    "echo \"###############################################\"\n",
    "echo \"##### ALIGNING PAIRED-END READS \"$PREFIXNAME\n",
    "echo \"###############################################\"\n",
    "STAR --genomeDir results/STAR_output/indexing_contigs_1_2/ \\\n",
    "--runThreadN 8 \\\n",
    "--readFilesIn ../Data/Clover_Data/$PREFIXNAME.R1.fastq ../Data/Clover_Data/$PREFIXNAME.R2.fastq \\\n",
    "--outFileNamePrefix results/STAR_output/TI_align_contigs_1_2/$PREFIXNAME \\\n",
    "--outSAMtype BAM SortedByCoordinate \\\n",
    "--outSAMattributes Standard \\\n",
    "--quantMode GeneCounts \\\n",
    "--alignIntronMax 5000 \n",
    "\n",
    "done"
   ]
  },
  {
   "attachments": {},
   "cell_type": "markdown",
   "id": "73255c0c-b2f0-480f-89f3-b4cd46f9e87c",
   "metadata": {},
   "source": [
    "Run quality control on each aligned library with `MultiQC`. In this way there will be a whole report to compare `S10` files and `Tienshan` files."
   ]
  },
  {
   "cell_type": "code",
   "execution_count": null,
   "id": "4d0ede5e-f8c4-4d79-8f13-246102b92b53",
   "metadata": {
    "tags": []
   },
   "outputs": [],
   "source": [
    "%%bash\n",
    "multiqc --outdir results/multiqc_output/TI_STAR_align_1_2 \\\n",
    "            results/STAR_output/TI_align_contigs_1_2/"
   ]
  },
  {
   "cell_type": "code",
   "execution_count": null,
   "id": "3e9b79a9-1973-45ee-b127-febdbce6e691",
   "metadata": {
    "tags": []
   },
   "outputs": [],
   "source": [
    "%%bash\n",
    "multiqc --outdir results/multiqc_output/S10_STAR_align_1_2 \\\n",
    "            results/STAR_output/S10_align_contigs_1_2/"
   ]
  },
  {
   "attachments": {},
   "cell_type": "markdown",
   "id": "197b87c1-692d-4a1e-9a2b-cc07c834ef26",
   "metadata": {},
   "source": [
    "We merge the outputs of each group of aligned libraries. Here is how the files look like for the `Tienshan`."
   ]
  },
  {
   "cell_type": "code",
   "execution_count": null,
   "id": "fe8a7519-0700-47cd-98b1-39c2ae72488b",
   "metadata": {
    "tags": []
   },
   "outputs": [],
   "source": [
    "!ls -lh  results/STAR_output/TI_align_contigs_1_2/TI_*.sortedByCoord.out.bam "
   ]
  },
  {
   "attachments": {},
   "cell_type": "markdown",
   "id": "77ccf4ac-c16e-4855-8e62-c9028f7d7710",
   "metadata": {},
   "source": [
    "Apply `samtools merge`"
   ]
  },
  {
   "cell_type": "code",
   "execution_count": null,
   "id": "07296157-f886-494a-97cc-6b65329c0a82",
   "metadata": {
    "tags": []
   },
   "outputs": [],
   "source": [
    "%%bash\n",
    "mkdir -p results/STAR_output/TI_align_contigs_1_2_merge/\n",
    "samtools merge -f results/STAR_output/TI_align_contigs_1_2_merge/TI.sorted.bam results/STAR_output/TI_align_contigs_1_2/TI_*.sortedByCoord.out.bam "
   ]
  },
  {
   "cell_type": "code",
   "execution_count": null,
   "id": "55384ddb-d3c7-4fac-bfea-f9cc430c3475",
   "metadata": {
    "tags": []
   },
   "outputs": [],
   "source": [
    "%%bash\n",
    "mkdir -p results/STAR_output/S10_align_contigs_1_2_merge/\n",
    "samtools merge -f results/STAR_output/S10_align_contigs_1_2_merge/S10.sorted.bam results/STAR_output/S10_align_contigs_1_2/S10_*.sortedByCoord.out.bam "
   ]
  },
  {
   "attachments": {},
   "cell_type": "markdown",
   "id": "7999dc37-50b2-4b67-ab31-2967a050d2b9",
   "metadata": {},
   "source": [
    "Index both merging outputs. A file in format `bam.bai` will appear in their respective folders."
   ]
  },
  {
   "cell_type": "code",
   "execution_count": null,
   "id": "f987b7a4-fd16-43be-b475-6855322049b9",
   "metadata": {
    "tags": []
   },
   "outputs": [],
   "source": [
    "%%bash\n",
    "samtools index results/STAR_output/S10_align_contigs_1_2_merge/S10.sorted.bam"
   ]
  },
  {
   "cell_type": "code",
   "execution_count": null,
   "id": "d8966008-bcd8-4fdd-87db-683b8a9b5c95",
   "metadata": {
    "tags": []
   },
   "outputs": [],
   "source": [
    "%%bash\n",
    "samtools index results/STAR_output/TI_align_contigs_1_2_merge/TI.sorted.bam"
   ]
  },
  {
   "attachments": {},
   "cell_type": "markdown",
   "id": "fc6b237c-8477-48d0-89d5-bd869794aca8",
   "metadata": {},
   "source": [
    ":::{.callout-note title=\"Wrapping up\"}\n",
    "\n",
    "In this exercise, you learnt to align various types of data after performing quality control for raw data. We looked at some of the options for the aligners and at how to use some of the basic samtools manipulation programs. The outputs from the RNA alignments will be used for the VCF file analysis in the next notebook, and the RNA alignments will be use for the bulk RNA data analysis.\n",
    "\n",
    ":::"
   ]
  }
 ],
 "metadata": {
  "kernelspec": {
   "display_name": "Python 3 (ipykernel)",
   "language": "python",
   "name": "python3"
  },
  "language_info": {
   "codemirror_mode": {
    "name": "ipython",
    "version": 3
   },
   "file_extension": ".py",
   "mimetype": "text/x-python",
   "name": "python",
   "nbconvert_exporter": "python",
   "pygments_lexer": "ipython3",
   "version": "3.11.7"
  },
  "vscode": {
   "interpreter": {
    "hash": "aee8b7b246df8f9039afb4144a1f6fd8d2ca17a180786b69acc140d282b71a49"
   }
  },
  "widgets": {
   "application/vnd.jupyter.widget-state+json": {
    "state": {},
    "version_major": 2,
    "version_minor": 0
   }
  }
 },
 "nbformat": 4,
 "nbformat_minor": 5
}
